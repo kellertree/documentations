{
 "cells": [
  {
   "cell_type": "markdown",
   "metadata": {},
   "source": [
    "This document is just for myself to keep track of documentation I reference."
   ]
  },
  {
   "cell_type": "code",
   "execution_count": 8,
   "metadata": {},
   "outputs": [
    {
     "name": "stdout",
     "output_type": "stream",
     "text": [
      "pandas user guide https://pandas.pydata.org/docs/user_guide/index.html#user-guide\n",
      "pandas introduction to data structures https://pandas.pydata.org/docs/user_guide/dsintro.html#dsintro\n"
     ]
    }
   ],
   "source": [
    "# Dictionary for storing reference materials.\n",
    "documentation_dict= {\n",
    "    \"pandas user guide\": \"https://pandas.pydata.org/docs/user_guide/index.html#user-guide\",\n",
    "    \"pandas introduction to data structures\": \"https://pandas.pydata.org/docs/user_guide/dsintro.html#dsintro\"\n",
    "}\n",
    "\n",
    "# Prints each resource and its associated link.\n",
    "for document in documentation_dict:\n",
    "    print(document, documentation_dict[document])\n",
    "\n"
   ]
  },
  {
   "cell_type": "code",
   "execution_count": null,
   "metadata": {},
   "outputs": [],
   "source": []
  }
 ],
 "metadata": {
  "kernelspec": {
   "display_name": "Python 3",
   "language": "python",
   "name": "python3"
  },
  "language_info": {
   "codemirror_mode": {
    "name": "ipython",
    "version": 3
   },
   "file_extension": ".py",
   "mimetype": "text/x-python",
   "name": "python",
   "nbconvert_exporter": "python",
   "pygments_lexer": "ipython3",
   "version": "3.11.8"
  }
 },
 "nbformat": 4,
 "nbformat_minor": 2
}
